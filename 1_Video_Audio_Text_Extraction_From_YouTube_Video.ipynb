{
 "cells": [
  {
   "cell_type": "markdown",
   "id": "3e48540b",
   "metadata": {},
   "source": [
    "# Video,Audio, Text Extraction from YouTube Video"
   ]
  },
  {
   "cell_type": "markdown",
   "id": "7f40679f",
   "metadata": {},
   "source": [
    "This notebook tells about one of the method to extracting video,audio,Text from You Tube Video"
   ]
  },
  {
   "cell_type": "markdown",
   "id": "63e053cc",
   "metadata": {},
   "source": [
    "### 1) Downloading you tube video"
   ]
  },
  {
   "cell_type": "code",
   "execution_count": 16,
   "id": "13d69424",
   "metadata": {},
   "outputs": [],
   "source": [
    "#For downloading you tube video we can use different libraries like pytube,youtube-dl etc.In this demo we are using pytube\n",
    "\n",
    "#use command if you haven't install earlier: !pip install pytube\n",
    "#you can also use pip3 instead of pip which make sure that the module will be installed in Python3\n",
    "#pip3 is an updated version of pip which is used basically for python 3+."
   ]
  },
  {
   "cell_type": "code",
   "execution_count": 17,
   "id": "488c3d14",
   "metadata": {},
   "outputs": [],
   "source": [
    "#pytube is a lightweight, Pythonic, dependency-free, library for downloading YouTube Videos.\n",
    "#!pip install pytube"
   ]
  },
  {
   "cell_type": "code",
   "execution_count": 18,
   "id": "14e81639",
   "metadata": {},
   "outputs": [
    {
     "data": {
      "text/plain": [
       "'D:\\\\Workshop_Material'"
      ]
     },
     "execution_count": 18,
     "metadata": {},
     "output_type": "execute_result"
    }
   ],
   "source": [
    "pwd"
   ]
  },
  {
   "cell_type": "code",
   "execution_count": 19,
   "id": "c1a58a71",
   "metadata": {},
   "outputs": [
    {
     "name": "stdout",
     "output_type": "stream",
     "text": [
      "Title of the You Tube Video:  Jamie Dimon's Career Advice\n",
      "list of all streams:  [<Stream: itag=\"17\" mime_type=\"video/3gpp\" res=\"144p\" fps=\"12fps\" vcodec=\"mp4v.20.3\" acodec=\"mp4a.40.2\" progressive=\"True\" type=\"video\">, <Stream: itag=\"18\" mime_type=\"video/mp4\" res=\"360p\" fps=\"24fps\" vcodec=\"avc1.42001E\" acodec=\"mp4a.40.2\" progressive=\"True\" type=\"video\">, <Stream: itag=\"22\" mime_type=\"video/mp4\" res=\"720p\" fps=\"24fps\" vcodec=\"avc1.64001F\" acodec=\"mp4a.40.2\" progressive=\"True\" type=\"video\">, <Stream: itag=\"137\" mime_type=\"video/mp4\" res=\"1080p\" fps=\"24fps\" vcodec=\"avc1.640028\" progressive=\"False\" type=\"video\">, <Stream: itag=\"248\" mime_type=\"video/webm\" res=\"1080p\" fps=\"24fps\" vcodec=\"vp9\" progressive=\"False\" type=\"video\">, <Stream: itag=\"136\" mime_type=\"video/mp4\" res=\"720p\" fps=\"24fps\" vcodec=\"avc1.4d401f\" progressive=\"False\" type=\"video\">, <Stream: itag=\"247\" mime_type=\"video/webm\" res=\"720p\" fps=\"24fps\" vcodec=\"vp9\" progressive=\"False\" type=\"video\">, <Stream: itag=\"135\" mime_type=\"video/mp4\" res=\"480p\" fps=\"24fps\" vcodec=\"avc1.4d401e\" progressive=\"False\" type=\"video\">, <Stream: itag=\"244\" mime_type=\"video/webm\" res=\"480p\" fps=\"24fps\" vcodec=\"vp9\" progressive=\"False\" type=\"video\">, <Stream: itag=\"134\" mime_type=\"video/mp4\" res=\"360p\" fps=\"24fps\" vcodec=\"avc1.4d401e\" progressive=\"False\" type=\"video\">, <Stream: itag=\"243\" mime_type=\"video/webm\" res=\"360p\" fps=\"24fps\" vcodec=\"vp9\" progressive=\"False\" type=\"video\">, <Stream: itag=\"133\" mime_type=\"video/mp4\" res=\"240p\" fps=\"24fps\" vcodec=\"avc1.4d4015\" progressive=\"False\" type=\"video\">, <Stream: itag=\"242\" mime_type=\"video/webm\" res=\"240p\" fps=\"24fps\" vcodec=\"vp9\" progressive=\"False\" type=\"video\">, <Stream: itag=\"160\" mime_type=\"video/mp4\" res=\"144p\" fps=\"24fps\" vcodec=\"avc1.4d400c\" progressive=\"False\" type=\"video\">, <Stream: itag=\"278\" mime_type=\"video/webm\" res=\"144p\" fps=\"24fps\" vcodec=\"vp9\" progressive=\"False\" type=\"video\">, <Stream: itag=\"139\" mime_type=\"audio/mp4\" abr=\"48kbps\" acodec=\"mp4a.40.5\" progressive=\"False\" type=\"audio\">, <Stream: itag=\"140\" mime_type=\"audio/mp4\" abr=\"128kbps\" acodec=\"mp4a.40.2\" progressive=\"False\" type=\"audio\">, <Stream: itag=\"249\" mime_type=\"audio/webm\" abr=\"50kbps\" acodec=\"opus\" progressive=\"False\" type=\"audio\">, <Stream: itag=\"250\" mime_type=\"audio/webm\" abr=\"70kbps\" acodec=\"opus\" progressive=\"False\" type=\"audio\">, <Stream: itag=\"251\" mime_type=\"audio/webm\" abr=\"160kbps\" acodec=\"opus\" progressive=\"False\" type=\"audio\">]\n"
     ]
    }
   ],
   "source": [
    "# importing the module \n",
    "from pytube import YouTube\n",
    "\n",
    "\n",
    "## Creating object of YouTube as link\n",
    "link = YouTube('https://www.youtube.com/watch?v=gWLbLv54hbU')\n",
    "\n",
    "##Seeing title of the video\n",
    "print('Title of the You Tube Video: ',link.title)\n",
    "\n",
    "##seeing the list of all streams\n",
    "print('list of all streams: ',link.streams)\n"
   ]
  },
  {
   "cell_type": "markdown",
   "id": "26519000",
   "metadata": {},
   "source": [
    "Here above we can note that some streams listed above have both a video codec and audio codec, while others have just video or just audio.We can filter it using filter function passing argument as per our requirement"
   ]
  },
  {
   "cell_type": "code",
   "execution_count": 20,
   "id": "eb080a9b",
   "metadata": {},
   "outputs": [
    {
     "data": {
      "text/plain": [
       "'D:\\\\Workshop_Material\\\\../Workshop/Video\\\\Jamie Dimons Career Advice.mp4'"
      ]
     },
     "execution_count": 20,
     "metadata": {},
     "output_type": "execute_result"
    }
   ],
   "source": [
    "#Downloading video\n",
    "\n",
    "## progressive=True argument make sure we filter stream which contain both video and audio and download video of 720p and below\n",
    "#For higher resolution you can use argument adaptive=True\n",
    "\n",
    "#Downloading video of higher resolution\n",
    "video=link.streams.filter(progressive=True, file_extension='mp4').order_by('resolution')[-1]\n",
    "# Note we can filter if we want to download only video not audio by passsing argument only_video=True\n",
    "video.download('../Workshop/Video')"
   ]
  },
  {
   "cell_type": "code",
   "execution_count": 21,
   "id": "f780aa50",
   "metadata": {},
   "outputs": [
    {
     "data": {
      "text/plain": [
       "'D:\\\\Workshop_Material\\\\../Workshop/Audio\\\\Jamie Dimons Career Advice.mp4'"
      ]
     },
     "execution_count": 21,
     "metadata": {},
     "output_type": "execute_result"
    }
   ],
   "source": [
    "#For downloading audio in mp4 format we can pass argument only_audio=True\n",
    "\n",
    "audio = link.streams.filter(only_audio=True, file_extension='mp4').first()\n",
    "audio.download('../Workshop/Audio')"
   ]
  },
  {
   "cell_type": "markdown",
   "id": "9ff0b5e3",
   "metadata": {},
   "source": [
    "### 2)Converting mp4 to mp3 file"
   ]
  },
  {
   "cell_type": "code",
   "execution_count": 22,
   "id": "44d53da9",
   "metadata": {},
   "outputs": [],
   "source": [
    "#Converting mp4 to mp3 file we can use python library moviepy\n",
    "\n",
    "#!pip install moviepy"
   ]
  },
  {
   "cell_type": "code",
   "execution_count": 23,
   "id": "68e0fa1a",
   "metadata": {},
   "outputs": [],
   "source": [
    "from moviepy.editor import *"
   ]
  },
  {
   "cell_type": "code",
   "execution_count": 24,
   "id": "e236424f",
   "metadata": {},
   "outputs": [
    {
     "name": "stdout",
     "output_type": "stream",
     "text": [
      "MoviePy - Writing audio in ../Workshop/Audio/Jamie Dimons Career Advice.wav\n"
     ]
    },
    {
     "name": "stderr",
     "output_type": "stream",
     "text": [
      "                                                                                                                       "
     ]
    },
    {
     "name": "stdout",
     "output_type": "stream",
     "text": [
      "MoviePy - Done.\n",
      "Video File converted into audio...\n"
     ]
    },
    {
     "name": "stderr",
     "output_type": "stream",
     "text": [
      "\r"
     ]
    }
   ],
   "source": [
    "# Libraries import\n",
    "import moviepy.editor as mp\n",
    "\n",
    "#clip = mp.VideoFileClip(r\"sample1.mp4\").subclip(10, 100)\n",
    "# subclip can be use to clip the video \n",
    "# subclip(starttime, endtime) to clip portion of video\n",
    "\n",
    "# you can remove the subclip to convert complete video\n",
    "\n",
    "clip = mp.VideoFileClip(r\"../Workshop/Video/Jamie Dimons Career Advice.mp4\")\n",
    "\n",
    "\n",
    "# It will write the audio in converted_audio.wav file.\n",
    "\n",
    "clip.audio.write_audiofile(r\"../Workshop/Audio/Jamie Dimons Career Advice.wav\")\n",
    "print(\"Video File converted into audio...\")"
   ]
  },
  {
   "cell_type": "markdown",
   "id": "1a5b59cf",
   "metadata": {},
   "source": [
    "### 3) Audio to text conversion"
   ]
  },
  {
   "cell_type": "markdown",
   "id": "9e3999dd",
   "metadata": {},
   "source": [
    "There are various packages available for speech recognition. A few of them include:\n",
    "    \n",
    "apiai \n",
    "    \n",
    "assemblyai\n",
    "\n",
    "google-cloud-speech \n",
    "\n",
    "pocketsphinx \n",
    "\n",
    "SpeechRecognition \n",
    "\n",
    "watson-developer-cloud \n",
    "\n",
    "wit \n",
    "\n",
    "Some of these packages—such as wit and apiai—offer built-in features, like natural language processing for identifying a speaker’s intent, which go beyond basic speech recognition. Others, like google-cloud-speech, focus solely on speech-to-text conversion."
   ]
  },
  {
   "cell_type": "code",
   "execution_count": 25,
   "id": "c32c30ee",
   "metadata": {},
   "outputs": [],
   "source": [
    "#SpeechRecognition Library is used for performing speech recognition, with support for several engines and APIs, online and offline.\n",
    "\n",
    "#!pip install SpeechRecognition"
   ]
  },
  {
   "cell_type": "code",
   "execution_count": 26,
   "id": "2172d2b5",
   "metadata": {},
   "outputs": [
    {
     "name": "stdout",
     "output_type": "stream",
     "text": [
      "Audio file Reading...\n",
      "We Successfully converted audio to text\n"
     ]
    }
   ],
   "source": [
    "# Libraries import\n",
    "import speech_recognition as sr \n",
    "\n",
    "# It will read audio file\n",
    "audio = sr.AudioFile(\"../Workshop/Audio/Jamie Dimons Career Advice.wav\")\n",
    "print(\"Audio file Reading...\")\n",
    "\n",
    "# create an instance of recognizer as r \n",
    "r = sr.Recognizer()\n",
    "\n",
    "with audio as source:\n",
    "    audio_file = r.record(source)\n",
    "\n",
    "# Here we get our text \n",
    "#Recognizer instance has different methods for recognizing speech such recognize_google() which is Google web search API\n",
    "#others-recognize_ibm(),recognize_bing() etc.\n",
    "\n",
    "result = r.recognize_google(audio_file)\n",
    "result\n",
    "# Now we will store the text in file\n",
    "with open('../Workshop/Recognizer_Detected_Text.txt',mode ='w') as file:\n",
    "    file.write(result)\n",
    "\n",
    "print(\"We Successfully converted audio to text\")"
   ]
  },
  {
   "cell_type": "markdown",
   "id": "e12a3c14",
   "metadata": {},
   "source": [
    "### 4) Downloading You Tube Subtitle directly "
   ]
  },
  {
   "cell_type": "code",
   "execution_count": 27,
   "id": "d444b77f",
   "metadata": {},
   "outputs": [],
   "source": [
    "#we will use library youtube_transcript_api\n",
    "# !pip install youtube_transcript_api"
   ]
  },
  {
   "cell_type": "code",
   "execution_count": 28,
   "id": "95028485",
   "metadata": {},
   "outputs": [],
   "source": [
    "link1 = 'https://www.youtube.com/watch?v=gWLbLv54hbU'"
   ]
  },
  {
   "cell_type": "code",
   "execution_count": 29,
   "id": "60f4eb52",
   "metadata": {},
   "outputs": [
    {
     "data": {
      "text/plain": [
       "[{'text': '[Music]', 'start': 0.19, 'duration': 6.23},\n",
       " {'text': 'are there a couple pieces of advice you',\n",
       "  'start': 3.44,\n",
       "  'duration': 4.869},\n",
       " {'text': \"would give to someone who's just maybe\",\n",
       "  'start': 6.42,\n",
       "  'duration': 3.87},\n",
       " {'text': 'starting their career and looking at',\n",
       "  'start': 8.309,\n",
       "  'duration': 3.721},\n",
       " {'text': 'this fast changing business environment',\n",
       "  'start': 10.29,\n",
       "  'duration': 4.41},\n",
       " {'text': \"asking how they're gonna yeah maintain\",\n",
       "  'start': 12.03,\n",
       "  'duration': 4.8},\n",
       " {'text': \"their work hard there's no such thing as\",\n",
       "  'start': 14.7,\n",
       "  'duration': 4.2},\n",
       " {'text': 'successful at hard work so some people',\n",
       "  'start': 16.83,\n",
       "  'duration': 3.869},\n",
       " {'text': 'have this quick get-rich-quick notion',\n",
       "  'start': 18.9,\n",
       "  'duration': 4.2},\n",
       " {'text': \"I've never seen it I mean maybe it's not\",\n",
       "  'start': 20.699,\n",
       "  'duration': 4.051},\n",
       " {'text': \"a casino maybe it's happened but it's\",\n",
       "  'start': 23.1,\n",
       "  'duration': 3.87},\n",
       " {'text': \"not it's not the normal way second you\",\n",
       "  'start': 24.75,\n",
       "  'duration': 4.23},\n",
       " {'text': 'spend your life learning you know I read',\n",
       "  'start': 26.97,\n",
       "  'duration': 3.66},\n",
       " {'text': 'four or five newspapers every morning I',\n",
       "  'start': 28.98,\n",
       "  'duration': 3.329},\n",
       " {'text': 'read tons of stuff I read everything',\n",
       "  'start': 30.63,\n",
       "  'duration': 3.54},\n",
       " {'text': \"that people send me you're gonna learn\",\n",
       "  'start': 32.309,\n",
       "  'duration': 3.451},\n",
       " {'text': 'when you go out in the road learn learn',\n",
       "  'start': 34.17,\n",
       "  'duration': 3.12},\n",
       " {'text': 'learn you learn from clients learn from',\n",
       "  'start': 35.76,\n",
       "  'duration': 3.389},\n",
       " {'text': 'competitors you learn when we meet with',\n",
       "  'start': 37.29,\n",
       "  'duration': 3.089},\n",
       " {'text': \"small business you're always learning\",\n",
       "  'start': 39.149,\n",
       "  'duration': 3.361},\n",
       " {'text': 'and that could be a small thing that',\n",
       "  'start': 40.379,\n",
       "  'duration': 3.661},\n",
       " {'text': 'someone said why do you do this he said',\n",
       "  'start': 42.51,\n",
       "  'duration': 3.479},\n",
       " {'text': 'my god we should do that differently to',\n",
       "  'start': 44.04,\n",
       "  'duration': 3.929},\n",
       " {'text': 'a very large thing even innovation',\n",
       "  'start': 45.989,\n",
       "  'duration': 4.171},\n",
       " {'text': \"sometimes it's not an AHA it's a lot a\",\n",
       "  'start': 47.969,\n",
       "  'duration': 3.511},\n",
       " {'text': 'lot of little things he added on top',\n",
       "  'start': 50.16,\n",
       "  'duration': 4.62},\n",
       " {'text': 'each other the iPhone was 3G you know',\n",
       "  'start': 51.48,\n",
       "  'duration': 5.91},\n",
       " {'text': 'the glass the semiconductors the',\n",
       "  'start': 54.78,\n",
       "  'duration': 4.59},\n",
       " {'text': \"batteries wasn't one thing that created\",\n",
       "  'start': 57.39,\n",
       "  'duration': 5.579},\n",
       " {'text': 'an iPhone so learn learn learn treat',\n",
       "  'start': 59.37,\n",
       "  'duration': 4.77},\n",
       " {'text': 'people the way you want to be treated',\n",
       "  'start': 62.969,\n",
       "  'duration': 3.271},\n",
       " {'text': 'you know like like have respect for',\n",
       "  'start': 64.14,\n",
       "  'duration': 5.58},\n",
       " {'text': 'people and be willing to change your job',\n",
       "  'start': 66.24,\n",
       "  'duration': 5.25},\n",
       " {'text': \"a little bit don't worry about your\",\n",
       "  'start': 69.72,\n",
       "  'duration': 4.05},\n",
       " {'text': \"income level you know people my god I'll\",\n",
       "  'start': 71.49,\n",
       "  'duration': 3.989},\n",
       " {'text': 'take that job I love the people puts',\n",
       "  'start': 73.77,\n",
       "  'duration': 3.57},\n",
       " {'text': \"less money you know what sometimes it's\",\n",
       "  'start': 75.479,\n",
       "  'duration': 3.631},\n",
       " {'text': 'the absolute right thing to do so be a',\n",
       "  'start': 77.34,\n",
       "  'duration': 3.779},\n",
       " {'text': 'little bit of flexible and the job you',\n",
       "  'start': 79.11,\n",
       "  'duration': 4.049},\n",
       " {'text': 'take and try you know in your in your',\n",
       "  'start': 81.119,\n",
       "  'duration': 3.211},\n",
       " {'text': 'lifetime you should be prepared to do a',\n",
       "  'start': 83.159,\n",
       "  'duration': 2.761},\n",
       " {'text': 'bunch of different things we tell people',\n",
       "  'start': 84.33,\n",
       "  'duration': 3.12},\n",
       " {'text': \"it's your job to take care of your mind\",\n",
       "  'start': 85.92,\n",
       "  'duration': 3.03},\n",
       " {'text': 'your body your spirit your soul your',\n",
       "  'start': 87.45,\n",
       "  'duration': 3.209},\n",
       " {'text': 'friends your family and you need to do',\n",
       "  'start': 88.95,\n",
       "  'duration': 3.87},\n",
       " {'text': \"that at any level because if you don't\",\n",
       "  'start': 90.659,\n",
       "  'duration': 3.271},\n",
       " {'text': \"you know you probably won't be a\",\n",
       "  'start': 92.82,\n",
       "  'duration': 2.85},\n",
       " {'text': 'particularly productive worker we can',\n",
       "  'start': 93.93,\n",
       "  'duration': 4.14},\n",
       " {'text': \"help but we can't do it for you we can\",\n",
       "  'start': 95.67,\n",
       "  'duration': 4.199},\n",
       " {'text': \"provide opportunities we can't do it for\",\n",
       "  'start': 98.07,\n",
       "  'duration': 3.99},\n",
       " {'text': 'you second you know what does that mean',\n",
       "  'start': 99.869,\n",
       "  'duration': 3.36},\n",
       " {'text': \"you want people to basically say I'm\",\n",
       "  'start': 102.06,\n",
       "  'duration': 2.94},\n",
       " {'text': 'gonna leave I got it five yes you guys',\n",
       "  'start': 103.229,\n",
       "  'duration': 3.061},\n",
       " {'text': 'you gotta go take care of your kids',\n",
       "  'start': 105.0,\n",
       "  'duration': 3.329},\n",
       " {'text': \"baseball game you don't feel well you\",\n",
       "  'start': 106.29,\n",
       "  'duration': 5.1},\n",
       " {'text': 'you know you need a spiritual getaway',\n",
       "  'start': 108.329,\n",
       "  'duration': 4.981},\n",
       " {'text': 'you you should do those things and it',\n",
       "  'start': 111.39,\n",
       "  'duration': 3.72},\n",
       " {'text': 'could be done most of the people might',\n",
       "  'start': 113.31,\n",
       "  'duration': 3.75},\n",
       " {'text': \"life who are always frenzied they can't\",\n",
       "  'start': 115.11,\n",
       "  'duration': 4.02},\n",
       " {'text': \"get it done I would some it's you it's\",\n",
       "  'start': 117.06,\n",
       "  'duration': 3.33},\n",
       " {'text': 'not the company so a lot of people doing',\n",
       "  'start': 119.13,\n",
       "  'duration': 3.059},\n",
       " {'text': 'that except the exact same job and',\n",
       "  'start': 120.39,\n",
       "  'duration': 3.99},\n",
       " {'text': \"they're always at peace and at ease and\",\n",
       "  'start': 122.189,\n",
       "  'duration': 4.171},\n",
       " {'text': 'they have their family time you know if',\n",
       "  'start': 124.38,\n",
       "  'duration': 3.689},\n",
       " {'text': \"you're if you're a male or we just had a\",\n",
       "  'start': 126.36,\n",
       "  'duration': 3.149},\n",
       " {'text': \"bunch of babies you know maybe can't\",\n",
       "  'start': 128.069,\n",
       "  'duration': 2.91},\n",
       " {'text': 'play golf every day in the weekends',\n",
       "  'start': 129.509,\n",
       "  'duration': 3.48},\n",
       " {'text': 'maybe you got to just cut back in other',\n",
       "  'start': 130.979,\n",
       "  'duration': 3.031},\n",
       " {'text': 'things and', 'start': 132.989, 'duration': 2.881},\n",
       " {'text': \"focus on that you can't give kids for\",\n",
       "  'start': 134.01,\n",
       "  'duration': 5.28},\n",
       " {'text': \"example quality time only you don't get\",\n",
       "  'start': 135.87,\n",
       "  'duration': 5.399},\n",
       " {'text': 'the quality without quantity you know',\n",
       "  'start': 139.29,\n",
       "  'duration': 4.08},\n",
       " {'text': 'and I tell people so you have to arrange',\n",
       "  'start': 141.269,\n",
       "  'duration': 3.69},\n",
       " {'text': 'your life so it works for you in a way',\n",
       "  'start': 143.37,\n",
       "  'duration': 3.03},\n",
       " {'text': \"that you're taking care of your health\",\n",
       "  'start': 144.959,\n",
       "  'duration': 3.541},\n",
       " {'text': 'like when I go travel overseas I',\n",
       "  'start': 146.4,\n",
       "  'duration': 5.25},\n",
       " {'text': 'schedule exercise time management is get',\n",
       "  'start': 148.5,\n",
       "  'duration': 5.64},\n",
       " {'text': 'it done follow-up discipline planning',\n",
       "  'start': 151.65,\n",
       "  'duration': 4.47},\n",
       " {'text': \"and now's this fax back fax and now just\",\n",
       "  'start': 154.14,\n",
       "  'duration': 3.75},\n",
       " {'text': 'get the right people in the room you',\n",
       "  'start': 156.12,\n",
       "  'duration': 4.32},\n",
       " {'text': 'know kill the bureaucracy all these',\n",
       "  'start': 157.89,\n",
       "  'duration': 4.11},\n",
       " {'text': 'various things they get done which if',\n",
       "  'start': 160.44,\n",
       "  'duration': 3.24},\n",
       " {'text': \"you don't you won't be particularly good\",\n",
       "  'start': 162.0,\n",
       "  'duration': 4.079},\n",
       " {'text': 'but the the real keys to leadership',\n",
       "  'start': 163.68,\n",
       "  'duration': 4.679},\n",
       " {'text': \"aren't just doing that or make yourself\",\n",
       "  'start': 166.079,\n",
       "  'duration': 4.561},\n",
       " {'text': 'but having people who want to work at',\n",
       "  'start': 168.359,\n",
       "  'duration': 4.201},\n",
       " {'text': 'the place so you might want to work for',\n",
       "  'start': 170.64,\n",
       "  'duration': 3.749},\n",
       " {'text': 'me if you trust me if you know what I',\n",
       "  'start': 172.56,\n",
       "  'duration': 3.48},\n",
       " {'text': 'care about is the client the country',\n",
       "  'start': 174.389,\n",
       "  'duration': 4.051},\n",
       " {'text': \"something different if the person's\",\n",
       "  'start': 176.04,\n",
       "  'duration': 4.77},\n",
       " {'text': 'selfish you know blames you and takes',\n",
       "  'start': 178.44,\n",
       "  'duration': 3.81},\n",
       " {'text': \"the credit you're not gonna want to work\",\n",
       "  'start': 180.81,\n",
       "  'duration': 4.649},\n",
       " {'text': 'there so to me humility openness',\n",
       "  'start': 182.25,\n",
       "  'duration': 6.06},\n",
       " {'text': \"fairness being authentic that's what\",\n",
       "  'start': 185.459,\n",
       "  'duration': 5.071},\n",
       " {'text': 'creates leadership not that the smartest',\n",
       "  'start': 188.31,\n",
       "  'duration': 3.269},\n",
       " {'text': 'person in the room or the', 'start': 190.53, 'duration': 2.4},\n",
       " {'text': 'hardest-working person in the room and',\n",
       "  'start': 191.579,\n",
       "  'duration': 2.97},\n",
       " {'text': 'you can you know if you made a list of',\n",
       "  'start': 192.93,\n",
       "  'duration': 4.08},\n",
       " {'text': \"good CEOs it's not their charisma it's\",\n",
       "  'start': 194.549,\n",
       "  'duration': 4.47},\n",
       " {'text': 'not always their brain power but you',\n",
       "  'start': 197.01,\n",
       "  'duration': 3.3},\n",
       " {'text': \"won't be a good seal without that\",\n",
       "  'start': 199.019,\n",
       "  'duration': 3.541},\n",
       " {'text': 'because people want to work there and so',\n",
       "  'start': 200.31,\n",
       "  'duration': 4.62},\n",
       " {'text': 'to me that is a whole different way of',\n",
       "  'start': 202.56,\n",
       "  'duration': 5.35},\n",
       " {'text': 'making sure you manage it', 'start': 204.93, 'duration': 5.04},\n",
       " {'text': 'you', 'start': 207.91, 'duration': 2.06}]"
      ]
     },
     "execution_count": 29,
     "metadata": {},
     "output_type": "execute_result"
    }
   ],
   "source": [
    "from youtube_transcript_api import YouTubeTranscriptApi\n",
    "import os\n",
    " \n",
    "#Note in the argument put in the \"\" the final part of the video in the address bar of the browser\n",
    "srt = YouTubeTranscriptApi.get_transcript(\"gWLbLv54hbU\")\n",
    "srt\n",
    " "
   ]
  },
  {
   "cell_type": "code",
   "execution_count": 30,
   "id": "013aa4af",
   "metadata": {},
   "outputs": [],
   "source": [
    "final_text = \"\"\n",
    "with open(\"../Workshop/Generated_Transcript.txt\", \"w\") as file:\n",
    "\tfor i in srt:\n",
    "\t\tfinal_text += i[\"text\"] + \"...\"\n",
    "\tfile.write(final_text)"
   ]
  },
  {
   "cell_type": "markdown",
   "id": "410d330f",
   "metadata": {},
   "source": [
    "## References"
   ]
  },
  {
   "cell_type": "markdown",
   "id": "7877c300",
   "metadata": {},
   "source": [
    "https://www.geeksforgeeks.org/pytube-python-library-download-youtube-videos/\n",
    "\n",
    "https://www.geeksforgeeks.org/python-download-youtube-videos-using-youtube_dl-module/\n",
    "\n",
    "https://blog.balasundar.com/extract-audio-from-youtube-video-using-python\n",
    "\n",
    "https://neptuneworld.in/blog/how-extract-speech-video-using-python/\n",
    "\n",
    "https://realpython.com/python-speech-recognition/"
   ]
  },
  {
   "cell_type": "code",
   "execution_count": null,
   "id": "fa46cf86",
   "metadata": {},
   "outputs": [],
   "source": []
  }
 ],
 "metadata": {
  "kernelspec": {
   "display_name": "Python 3 (ipykernel)",
   "language": "python",
   "name": "python3"
  },
  "language_info": {
   "codemirror_mode": {
    "name": "ipython",
    "version": 3
   },
   "file_extension": ".py",
   "mimetype": "text/x-python",
   "name": "python",
   "nbconvert_exporter": "python",
   "pygments_lexer": "ipython3",
   "version": "3.9.7"
  }
 },
 "nbformat": 4,
 "nbformat_minor": 5
}
