{
 "cells": [
  {
   "cell_type": "markdown",
   "id": "cf5d14d9",
   "metadata": {},
   "source": [
    "## Video to Frame Extraction"
   ]
  },
  {
   "cell_type": "markdown",
   "id": "d1794ba8",
   "metadata": {},
   "source": [
    "This notebook tells about one of the method of extracting frames from the Video"
   ]
  },
  {
   "cell_type": "code",
   "execution_count": 1,
   "id": "a1d0740f",
   "metadata": {},
   "outputs": [],
   "source": [
    "#Library to be installed\n",
    "\n",
    "#!pip install opencv-python"
   ]
  },
  {
   "cell_type": "code",
   "execution_count": 2,
   "id": "f5c808b6",
   "metadata": {},
   "outputs": [],
   "source": [
    "#Importing opencv package for python\n",
    "import cv2\n",
    "#importing math module\n",
    "import math\n",
    " #Importing time module to work with time in Python\n",
    "import time\n",
    "#Importing os module to deal with operating system\n",
    "import os\n",
    "#Provides various functions and variables that are used to manipulate different parts of the Python runtime environment\n",
    "import sys\n",
    "# Importing module to deal with file path\n",
    "import pathlib"
   ]
  },
  {
   "cell_type": "code",
   "execution_count": 3,
   "id": "fc114bb0",
   "metadata": {},
   "outputs": [
    {
     "data": {
      "text/plain": [
       "'D:\\\\Workshop_Material'"
      ]
     },
     "execution_count": 3,
     "metadata": {},
     "output_type": "execute_result"
    }
   ],
   "source": [
    "pwd"
   ]
  },
  {
   "cell_type": "code",
   "execution_count": 4,
   "id": "9e1b468b",
   "metadata": {},
   "outputs": [
    {
     "name": "stdout",
     "output_type": "stream",
     "text": [
      "[WinError 183] Cannot create a file when that file already exists: 'D:/Workshop/Frames'\n"
     ]
    }
   ],
   "source": [
    "#Here we will work with the video we downloaded from youTube and kept in separate folder\n",
    "\n",
    "os.chdir(r\"D:\\Workshop\\Video\")\n",
    "framespath='D:/Workshop/Frames'\n",
    "try: \n",
    "    os.mkdir(framespath) \n",
    "except OSError as error: \n",
    "    print(error)"
   ]
  },
  {
   "cell_type": "code",
   "execution_count": 5,
   "id": "6a28fe08",
   "metadata": {},
   "outputs": [
    {
     "data": {
      "text/plain": [
       "'D:\\\\Workshop\\\\Video'"
      ]
     },
     "execution_count": 5,
     "metadata": {},
     "output_type": "execute_result"
    }
   ],
   "source": [
    "pwd"
   ]
  },
  {
   "cell_type": "code",
   "execution_count": 6,
   "id": "10e00e25",
   "metadata": {},
   "outputs": [
    {
     "data": {
      "text/plain": [
       "['Jamie Dimons Career Advice.mp4']"
      ]
     },
     "execution_count": 6,
     "metadata": {},
     "output_type": "execute_result"
    }
   ],
   "source": [
    "os.listdir()"
   ]
  },
  {
   "cell_type": "code",
   "execution_count": 7,
   "id": "cd35664b",
   "metadata": {},
   "outputs": [],
   "source": [
    "videos= os.listdir()"
   ]
  },
  {
   "cell_type": "code",
   "execution_count": 8,
   "id": "f42f8306",
   "metadata": {},
   "outputs": [
    {
     "name": "stdout",
     "output_type": "stream",
     "text": [
      "Jamie Dimons Career Advice\n",
      "D:/Workshop/Frames/Jamie Dimons Career Advice/\n"
     ]
    }
   ],
   "source": [
    "for k in videos:\n",
    "    #Taking the name of file only leaving the extension\n",
    "    name = k[:-4]   \n",
    "    print(name)\n",
    "    #Setting path for frames/images\n",
    "    imagesFolder = framespath + f'/{name}/'\n",
    "    print(imagesFolder)"
   ]
  },
  {
   "cell_type": "code",
   "execution_count": 9,
   "id": "610d8640",
   "metadata": {},
   "outputs": [],
   "source": [
    "def FrameExtractor_one(vids, framespath, threadlabel):\n",
    "    for k in vids:\n",
    "        #Extracting only name of the file\n",
    "        name = k[:-4]   \n",
    "        \n",
    "        videoFile = k\n",
    "        \n",
    "        #Setting path for frames/images\n",
    "        imagesFolder = framespath + f'/{name}/'\n",
    "        \n",
    "        #Checking if folder exist or not,if not create one with that name\n",
    "        try: \n",
    "            os.mkdir(imagesFolder) \n",
    "        except OSError as error: \n",
    "            print(error)\n",
    "            \n",
    "        print(imagesFolder)\n",
    "        \n",
    "        #If the frame folder have no frames\n",
    "        if len(os.listdir(imagesFolder))==0:\n",
    "            #Start taking time\n",
    "            start= time.time()\n",
    "            \n",
    "            ## creating the videocapture object and reading from the input file.Its argument can be either the device index or the name of a video file\n",
    "\n",
    "            cap = cv2.VideoCapture(videoFile)\n",
    "            #frameRate = cap.get(5) #frame rate\n",
    "            \n",
    "            while(cap.isOpened()):\n",
    "                frameId = cap.get(1) #current frame number\n",
    "                \n",
    "                #Capture the video frame by frame\n",
    "                ret, frame = cap.read()\n",
    "                \n",
    "                 # if frame is read correctly ret is True\n",
    "                if (ret != True):\n",
    "                    break\n",
    "                else:\n",
    "\n",
    "                    filename = imagesFolder + \"frame_\" +  str(int(frameId)) + \".jpg\"\n",
    "                    #write the frame\n",
    "                    cv2.imwrite(filename, frame)\n",
    "            ## Release the capture object\n",
    "            cap.release()\n",
    "            \n",
    "            # Destroy all windows\n",
    "            cv2.destroyAllWindows()\n",
    "            print (threadlabel, k, ' time taken: ', time.time()-start)\n",
    "        else:\n",
    "            print('video handled by threading script')"
   ]
  },
  {
   "cell_type": "code",
   "execution_count": 10,
   "id": "f7fa4f63",
   "metadata": {},
   "outputs": [
    {
     "name": "stdout",
     "output_type": "stream",
     "text": [
      "[WinError 183] Cannot create a file when that file already exists: 'D:/Workshop/Frames/Jamie Dimons Career Advice/'\n",
      "D:/Workshop/Frames/Jamie Dimons Career Advice/\n",
      "video handled by threading script\n"
     ]
    }
   ],
   "source": [
    "FrameExtractor_one(videos, framespath, 'Completed Extraction of Frames from Video ')"
   ]
  },
  {
   "cell_type": "markdown",
   "id": "1e6c7444",
   "metadata": {},
   "source": [
    "### Reference"
   ]
  },
  {
   "cell_type": "markdown",
   "id": "c8eb75d2",
   "metadata": {},
   "source": [
    "https://docs.opencv.org/4.x/dd/d43/tutorial_py_video_display.html\n",
    "https://docs.opencv.org/3.1.0/d8/dfe/classcv_1_1VideoCapture.html#aeb1644641842e6b104f244f049648f94"
   ]
  },
  {
   "cell_type": "code",
   "execution_count": null,
   "id": "307ac535",
   "metadata": {},
   "outputs": [],
   "source": []
  }
 ],
 "metadata": {
  "kernelspec": {
   "display_name": "Python 3 (ipykernel)",
   "language": "python",
   "name": "python3"
  },
  "language_info": {
   "codemirror_mode": {
    "name": "ipython",
    "version": 3
   },
   "file_extension": ".py",
   "mimetype": "text/x-python",
   "name": "python",
   "nbconvert_exporter": "python",
   "pygments_lexer": "ipython3",
   "version": "3.9.7"
  }
 },
 "nbformat": 4,
 "nbformat_minor": 5
}
